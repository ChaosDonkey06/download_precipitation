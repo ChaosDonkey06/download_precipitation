{
 "cells": [
  {
   "cell_type": "code",
   "execution_count": 7,
   "metadata": {},
   "outputs": [],
   "source": [
    "from global_config import config\n",
    "\n",
    "from tqdm import tqdm\n",
    "import pandas as pd\n",
    "import xarray as xr\n",
    "import wget\n",
    "import os\n",
    "\n",
    "# xarray version 2025.1.\n",
    "# pandas version 2.2.3\n",
    "# numpy version 2.2.2\n",
    "\n",
    "data_dir = config.get_property('data_dir')\n",
    "data_dir = os.path.join(data_dir, 'raw')\n",
    "\n",
    "precip_data_dir = os.path.join(data_dir, 'precipitation')\n",
    "CHRIPS_data_dir = os.path.join(precip_data_dir, \"CHIRPS-2.0\")\n"
   ]
  },
  {
   "cell_type": "code",
   "execution_count": 14,
   "metadata": {},
   "outputs": [
    {
     "name": "stderr",
     "output_type": "stream",
     "text": [
      "100%|██████████| 39/39 [19:12<00:00, 29.54s/it]\n"
     ]
    }
   ],
   "source": [
    "\n",
    "time_freq   = \"daily\"\n",
    "product     = f\"global_{time_freq}/netcdf/p05\"\n",
    "link_base_f = lambda y: f\"https://data.chc.ucsb.edu/products/CHIRPS-2.0/{product}/chirps-v2.0.{y}.days_p05.nc\"\n",
    "years       = list(range(1981, 2020))\n",
    "\n",
    "save_chirps_dir = os.path.join(CHRIPS_data_dir, product)\n",
    "os.makedirs(save_chirps_dir, exist_ok=True)\n",
    "\n",
    "for year in tqdm(years):\n",
    "    url_y = link_base_f(year)\n",
    "\n",
    "    if os.path.isfile(os.path.join(save_chirps_dir, url_y.split(\"/\")[-1])):\n",
    "        continue\n",
    "\n",
    "    filename = wget.download(url_y, out=save_chirps_dir)\n"
   ]
  },
  {
   "cell_type": "code",
   "execution_count": 15,
   "metadata": {},
   "outputs": [
    {
     "data": {
      "text/plain": [
       "'/Users/chaosdonkey06/Dropbox/Pascual-lab/DengueThailand/data/raw/precipitation/CHIRPS-2.0/global_daily/netcdf/p05/chirps-v2.0.2019.days_p05.nc'"
      ]
     },
     "execution_count": 15,
     "metadata": {},
     "output_type": "execute_result"
    }
   ],
   "source": [
    "filename"
   ]
  },
  {
   "cell_type": "code",
   "execution_count": null,
   "metadata": {},
   "outputs": [],
   "source": []
  }
 ],
 "metadata": {
  "kernelspec": {
   "display_name": "denv_thai",
   "language": "python",
   "name": "python3"
  },
  "language_info": {
   "codemirror_mode": {
    "name": "ipython",
    "version": 3
   },
   "file_extension": ".py",
   "mimetype": "text/x-python",
   "name": "python",
   "nbconvert_exporter": "python",
   "pygments_lexer": "ipython3",
   "version": "3.11.8"
  }
 },
 "nbformat": 4,
 "nbformat_minor": 2
}
